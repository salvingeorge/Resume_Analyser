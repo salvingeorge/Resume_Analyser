{
 "cells": [
  {
   "cell_type": "code",
   "execution_count": 1,
   "metadata": {},
   "outputs": [],
   "source": [
    "#!pip install PyPDF2"
   ]
  },
  {
   "cell_type": "code",
   "execution_count": 2,
   "metadata": {},
   "outputs": [],
   "source": [
    "import torch\n",
    "from transformers import BertTokenizer, BertForSequenceClassification #BERT\n",
    "import PyPDF2 #for Pdf file\n",
    "import re #Regular Expressions\n",
    "import numpy as np"
   ]
  },
  {
   "cell_type": "code",
   "execution_count": 3,
   "metadata": {},
   "outputs": [],
   "source": [
    "pdf = open(r\"D:\\MAS\\Semester 2\\NLP\\Project\\Resume Analyzer\\data\\data\\PUBLIC-RELATIONS\\10070224.pdf\",'rb')\n"
   ]
  },
  {
   "cell_type": "code",
   "execution_count": 4,
   "metadata": {},
   "outputs": [],
   "source": [
    "pdfReader = PyPDF2.PdfReader(pdf)"
   ]
  },
  {
   "cell_type": "code",
   "execution_count": null,
   "metadata": {},
   "outputs": [],
   "source": []
  },
  {
   "cell_type": "code",
   "execution_count": 5,
   "metadata": {},
   "outputs": [
    {
     "data": {
      "text/plain": [
       "{'/Title': '',\n",
       " '/Creator': 'wkhtmltopdf 0.12.4',\n",
       " '/Producer': 'Qt 4.8.7',\n",
       " '/CreationDate': \"D:20210808155148+05'30'\"}"
      ]
     },
     "execution_count": 5,
     "metadata": {},
     "output_type": "execute_result"
    }
   ],
   "source": [
    "pdfReader.metadata"
   ]
  },
  {
   "cell_type": "code",
   "execution_count": 6,
   "metadata": {},
   "outputs": [
    {
     "name": "stdout",
     "output_type": "stream",
     "text": [
      "Number of pages:  2\n"
     ]
    }
   ],
   "source": [
    "x = (len(pdfReader.pages))\n",
    "print(\"Number of pages: \",x)"
   ]
  },
  {
   "cell_type": "code",
   "execution_count": 7,
   "metadata": {},
   "outputs": [],
   "source": [
    "text = \" \""
   ]
  },
  {
   "cell_type": "code",
   "execution_count": 8,
   "metadata": {},
   "outputs": [],
   "source": [
    "for page_number in range(x):\n",
    "    pdfReader = PyPDF2.PdfReader(pdf)\n",
    "    if pdfReader.is_encrypted:\n",
    "        pdfReader.decrypt('')\n",
    "    page = pdfReader.pages[page_number]\n",
    "    text += page.extract_text()"
   ]
  },
  {
   "cell_type": "code",
   "execution_count": 9,
   "metadata": {},
   "outputs": [],
   "source": [
    "pdf.close()"
   ]
  },
  {
   "cell_type": "code",
   "execution_count": 10,
   "metadata": {},
   "outputs": [
    {
     "data": {
      "text/plain": [
       "' PUBLIC RELATIONS DIRECTOR\\nSummary\\nTalented PR professional with 11 years\\' expertise developing and executing all aspects of public outreach campaigns to increase media exposure\\nand support strategic marketing initiatives. Proven creative talent with demonstrated strength in media production, messaging, communications and\\ndissemination techniques and methods.Â  Deep understanding of media relations; accomplished track record of securing live television and on-site\\npress coverage.\\nHighlights\\nPublicity and communications\\nVendor and client relations\\nMedia relations\\nIntegrated campaigns\\nProject oversight\\nAdvertising\\nWriting and editing \\nStrategic messaging\\nSpecial event coordinationÂ \\nEmail marketingÂ \\nCrisis communication\\nJournalistic interviews \\nExperience\\nPublic Relations Director\\n \\n, \\n01/2016\\n \\nto \\nCurrent\\n \\nCompany Name\\n \\nï¼\\u200b \\nCity\\n \\n, \\nState\\nAssistant Director of Public Relations\\n \\n, \\n01/2010\\n \\nto \\n01/2016\\n \\nCompany Name\\n \\nï¼\\u200b \\nCity\\n \\n, \\nState\\nDirected the college\\'s media relations activities, including \\nthe production and disseminationÂ of press releases, media advisories, and \\npublic\\nservice announcements.\\nEnhanced relationships with media to realize increased cooperation and better press coverage.Â \\nManaged editorial content, design, and distribution of the college\\'s official e-newsletters.Â \\nConducted media training for college spokesperson and other college personnel as needed.\\nLeveraged technical resources to design and create \\ne-marketing campaign deliverables for the BRCC Foundation.Â \\nTransformed internal and external communication by implementing e-marketing strategies. \\nWrote and edited articles, web content, advertising copy, \\nand publications for internal and external audiences.Â \\nProactively sought favorable press coverage opportunities.\\nDeveloped and managed the Institutional Advancement budget up to $350,000 for 2 consecutive years.Â \\nSpearheaded the college\\'s commencement exercises for more than 5 years.Â Â  \\nCoordinated a variety of press conferences including articulation agreements, groundbreaking ceremonies, ribbon cuttings, and special\\nannouncements. \\nCreated 15 public relations campaigns annually garnering \\napproximately $250k in earned media. Â \\nResearched, negotiated, implemented, and tracked advertising and public relations activities.\\nSpearheaded and executed PR campaigns for campus events and activities, and greatly increased participation.\\nProtected the BRCC branded image by effectively managing all internal and external communications materials; revised the outdated\\ngraphics standards manual, and directed staff on proper use. \\nMedia Specialist\\n \\n, \\n02/2006\\n \\nto \\n01/2010\\n \\nCompany Name\\n \\nï¼\\u200b \\nCity\\n \\n, \\nState\\nDeveloped news releases, media kits and collateral material.\\nBuilt effective relationships with the media, including writing press releases and making phone calls to generate publicity.\\nOversaw content production such as advertisements, social media, and online PR.\\nEdited and distributed press releases and pitches to local and national media outlets securing positive coverage.\\nDeveloped talking points for press conferences and other events.\\nCreated content for the college\\'s annual report.Â \\nWrote articles for the web.\\nGathered, edited, and wrote articles for the college printed newspaper \"\\n Good News,\\n \\nand wrote web articles\\n . \\nSecured earned media placement in local publications such as The Advocate, The Business Report, and the Healthcare Journal.Â \\nWorked in collaboration with ad agency to implement annual marketing campaigns.\\nCoordinated campus-wide photo shoots.Â \\nServed as photographer for all campus events.Â \\nAssisted in preparing the departmental budget. \\nInitiated bid process for projects, prepared requisitions, and ensured vendor payment.\\nCoordinator for Institutional Advancement \\n, \\n11/2004\\n \\nto \\n02/2006\\n \\nCompany Name\\n \\nï¼\\u200b \\nCity\\n \\n, \\nState\\nWorked as the coordinator for 3 individual departments: public relations, institutional advancement, and external resources.Â \\nCreated, distributed, and analyzed student media survey to determine best use of advertising expenditures.Â \\nAssisted with arranging special events on campus.\\nConducted focus groups with students, faculty, and staff to access effectiveness of the public relations team.Â  \\nCoordinated Foundation board meetings (data compilation, agenda preparation, parking arrangements, invitations/catering, etc).\\nWrote and edited press releases and public service announcements to promote campus events.\\nServed on various campus committees (annual fundraising event, commencement, student recognition, etc.).Wrote and edited stories for the Daily E-News, an electronic newsletter distributed to faculty and staff daily.\\nServed as backup-photographer for various campus events.\\n \\nMarketing Analyst\\n \\n, \\n09/2003\\n \\nto \\n11/2004\\n \\nCompany Name\\n \\nï¼\\u200b \\nCity\\n \\n, \\nState\\nDeveloped and managed company\\'s first formal employee communications system to distribute company news and critical information.\\nWrote newsletter marketing copy and presentation materials for special projects.\\nEdited and distributed press releases and pitches to local and national media outlets.\\nCreated tracking system for marketing; analyzed collected information and delivered a monthly presentation regarding the results.\\nRepresented the company and at various community events. \\nÂ Designed all printed material (brochures, pamphlets, newsletters, etc.). Assisted with the design of the company website, logo, and\\ntagline.\\nMaintained and updated company\\'s mailing list.\\nDesigned media surveys for internal and external audiences.\\nAssisted with the coordination of all company functions and events (luncheons, seminars, annual fundraiser, etc.)\\nProducer/Associate Producer\\n \\n, \\n10/2000\\n \\nto \\n02/2004\\n \\nCompany Name\\n \\nï¼\\u200b \\nCity\\n \\n, \\nState\\nBooked and scheduled hundreds of guests including legislatures, business and industry CEO\\'s, non-profit organizations, etc.Â \\nManaged a production staff of 6.Â \\nWrote and edited show content, approved all copy, and handled breaking news stories.\\nRapidly promoted from weekend associate producer to weekend producer.\\nDetermined newsworthy items and coverage. Â \\nAssigned tasks to morning reporters.\\nEducation\\nMaster of Arts\\n \\n:\\n \\nMass Communication \\n,\\n \\nMay 2003\\n \\nSouthern University\\n \\nï¼\\u200b \\nCity\\n \\n, \\nState\\n \\nPublic Relations\\nBachelor of Arts\\n \\n:\\n \\nMass Communication\\n \\n,\\n \\nDecember 2001\\n \\nSouthern University\\n \\nï¼\\u200b \\nCity\\n \\n, \\nState\\n \\nBroadcast Journalism\\nProfessional Affiliations\\nPublic Relations Society of America- 2009 to present\\nPublic Relations Association of Louisiana- 2009 to present\\nNational Council for Marketing and Public Relations\\n \\n- 2006 to present\\nNational Association of Black Journalists- 2014 to present\\nAwards\\nOutstanding Professional Staff Award, 2016\\nOutstanding Staff Achievement Award, 2013\\nSkills\\nMicrosoft Office Suite: Word, Excel, Publisher, PowerPoint\\n \\nConstant Contact: Email marketing tool \\nOU Campus: Web content managementÂ \\nMeltwater News: Media tracking and distributionÂ \\nTVEyes: Broadcast monitoring\\nCommunity Service\\nCapital Area ReEntry Coalition: Email Marketing, Press Releases, Media Relations, 2015 \\nMedia 101 Workshop for non-profits: Served as a panelist, April 2016â€‹\\nCommunity Grant Writing Workshop:Â  Conducted media workshop, 2016 '"
      ]
     },
     "execution_count": 10,
     "metadata": {},
     "output_type": "execute_result"
    }
   ],
   "source": [
    "text"
   ]
  },
  {
   "cell_type": "code",
   "execution_count": 11,
   "metadata": {},
   "outputs": [
    {
     "data": {
      "text/plain": [
       "' PUBLIC RELATIONS DIRECTOR Summary Talented PR professional with years expertise developing and executing all aspects of public outreach campaigns to increase media exposure and support strategic marketing initiatives Proven creative talent with demonstrated strength in media production messaging communications and dissemination techniques and methods Deep understanding of media relations a omplished track record of securing live television and on site press coverage Highlights Publicity and communications Vendor and client relations Media relations Integrated campaigns Project oversight Advertising Writing and editing Strategic messaging Special event coordination Email marketing Crisis communication Journalistic interviews Experience Public Relations Director to Current Company Name City State Assistant Director of Public Relations to Company Name City State Directed the college s media relations activities including the production and dissemination of press releases media advisories and public service announcements Enhanced relationships with media to realize increased cooperation and better press coverage Managed editorial content design and distribution of the college s official e newsletters Conducted media training for college spokesperson and other college personnel as needed Leveraged technical resources to design and create e marketing campaign deliverables for the BRCC Foundation Transformed internal and external communication by implementing e marketing strategies Wrote and edited articles web content advertising copy and publications for internal and external audiences Proactively sought favorable press coverage opportunities Developed and managed the Institutional Advancement budget up to for consecutive years Spearheaded the college s commencement exercises for more than years Coordinated a variety of press conferences including articulation agreements groundbreaking ceremonies ribbon cuttings and special announcements Created public relations campaigns annually garnering approximately k in earned media Researched negotiated implemented and tracked advertising and public relations activities Spearheaded and executed PR campaigns for campus events and activities and greatly increased participation Protected the BRCC branded image by effectively managing all internal and external communications materials revised the outdated graphics standards manual and directed staff on proper use Media Specialist to Company Name City State Developed news releases media kits and collateral material Built effective relationships with the media including writing press releases and making phone calls to generate publicity Oversaw content production such as advertisements social media and online PR Edited and distributed press releases and pitches to local and national media outlets securing positive coverage Developed talking points for press conferences and other events Created content for the college s annual report Wrote articles for the web Gathered edited and wrote articles for the college printed newspaper Good News and wrote web articles Secured earned media placement in local publications such as The Advocate The Business Report and the Healthcare Journal Worked in collaboration with ad agency to implement annual marketing campaigns Coordinated campus wide photo shoots Served as photographer for all campus events Assisted in preparing the departmental budget Initiated bid process for projects prepared requisitions and ensured vendor payment Coordinator for Institutional Advancement to Company Name City State Worked as the coordinator for individual departments public relations institutional advancement and external resources Created distributed and analyzed student media survey to determine best use of advertising expenditures Assisted with arranging special events on campus Conducted focus groups with students faculty and staff to a ess effectiveness of the public relations team Coordinated Foundation board meetings data compilation agenda preparation parking arrangements invitations catering etc Wrote and edited press releases and public service announcements to promote campus events Served on various campus committees annual fundraising event commencement student recognition etc Wrote and edited stories for the Daily E News an electronic newsletter distributed to faculty and staff daily Served as backup photographer for various campus events Marketing Analyst to Company Name City State Developed and managed company s first formal employee communications system to distribute company news and critical information Wrote newsletter marketing copy and presentation materials for special projects Edited and distributed press releases and pitches to local and national media outlets Created tracking system for marketing analyzed collected information and delivered a monthly presentation regarding the results Represented the company and at various community events Designed all printed material brochures pamphlets newsletters etc Assisted with the design of the company website logo and tagline Maintained and updated company s mailing list Designed media surveys for internal and external audiences Assisted with the coordination of all company functions and events luncheons seminars annual fundraiser etc Producer Associate Producer to Company Name City State Booked and scheduled hundreds of guests including legislatures business and industry CEO s non profit organizations etc Managed a production staff of Wrote and edited show content approved all copy and handled breaking news stories Rapidly promoted from weekend associate producer to weekend producer Determined newsworthy items and coverage Assigned tasks to morning reporters Education Master of Arts Mass Communication May Southern University City State Public Relations Bachelor of Arts Mass Communication December Southern University City State Broadcast Journalism Professional Affiliations Public Relations Society of America to present Public Relations Association of Louisiana to present National Council for Marketing and Public Relations to present National Association of Black Journalists to present Awards Outstanding Professional Staff Award Outstanding Staff Achievement Award Skills Microsoft Office Suite Word Excel Publisher PowerPoint Constant Contact Email marketing tool OU Campus Web content management Meltwater News Media tracking and distribution TVEyes Broadcast monitoring Community Service Capital Area ReEntry Coalition Email Marketing Press Releases Media Relations Media Workshop for non profits Served as a panelist April Community Grant Writing Workshop Conducted media workshop '"
      ]
     },
     "execution_count": 11,
     "metadata": {},
     "output_type": "execute_result"
    }
   ],
   "source": [
    "text = re.sub('http\\S+\\s*', ' ', text)  # remove URLs\n",
    "text = re.sub('RT|cc', ' ', text)  # remove RT and cc\n",
    "text = re.sub('#\\S+', '', text)  # remove hashtags\n",
    "text = re.sub('@\\S+', '  ', text)  # remove mentions\n",
    "text = re.sub('[%s]' % re.escape(\"\"\"!\"#$%&'()*+,-./:;<=>?@[\\]^_`{|}~\"\"\"), ' ', text)  # remove punctuation\n",
    "text = re.sub(r'[0-9]+', '', text)\n",
    "text = re.sub(r'[^\\x00-\\x7f]',r' ', text) \n",
    "text = re.sub('\\s+', ' ', text)  # remove extra whitespace\n",
    "text"
   ]
  },
  {
   "cell_type": "markdown",
   "metadata": {},
   "source": []
  },
  {
   "cell_type": "code",
   "execution_count": 12,
   "metadata": {},
   "outputs": [],
   "source": [
    "tokenizer = BertTokenizer.from_pretrained('bert-base-uncased')"
   ]
  },
  {
   "cell_type": "code",
   "execution_count": 13,
   "metadata": {},
   "outputs": [
    {
     "name": "stderr",
     "output_type": "stream",
     "text": [
      "Some weights of BertForSequenceClassification were not initialized from the model checkpoint at bert-base-uncased and are newly initialized: ['classifier.bias', 'classifier.weight']\n",
      "You should probably TRAIN this model on a down-stream task to be able to use it for predictions and inference.\n"
     ]
    }
   ],
   "source": [
    "model = BertForSequenceClassification.from_pretrained('bert-base-uncased')"
   ]
  },
  {
   "cell_type": "code",
   "execution_count": 14,
   "metadata": {},
   "outputs": [],
   "source": [
    "# Define the job titles and their corresponding labels\n",
    "job_titles = ['Data Scientist', 'Software Engineer', 'Marketing Manager', 'Engineer']\n",
    "labels = [1, 2, 3, 4]"
   ]
  },
  {
   "cell_type": "code",
   "execution_count": 28,
   "metadata": {},
   "outputs": [],
   "source": [
    "# Function to encode a resume text into a BERT-compatible format\n",
    "def encode_resume(resume_text):\n",
    "    input_ids = torch.tensor(tokenizer.encode(resume_text, add_special_tokens=True)).unsqueeze(0)  # Batch size 1\n",
    "    input_ids = torch.resize(input_ids, (1, 936))\n",
    "    with torch.no_grad():\n",
    "        outputs = model(input_ids)\n",
    "    logits = outputs[0]\n",
    "    return logits, input_ids"
   ]
  },
  {
   "cell_type": "code",
   "execution_count": 29,
   "metadata": {},
   "outputs": [],
   "source": [
    "# Function to classify a resume based on its job title\n",
    "def classify_resume(resume_text):\n",
    "    logits,_ = encode_resume(resume_text)\n",
    "    probs = torch.softmax(logits,dim=1)\n",
    "    top_prob, top_label = probs.max(1)\n",
    "    predicted_label = job_titles[top_label.item()]\n",
    "    return predicted_label"
   ]
  },
  {
   "cell_type": "code",
   "execution_count": 31,
   "metadata": {},
   "outputs": [
    {
     "ename": "AttributeError",
     "evalue": "module 'torch' has no attribute 'resize'",
     "output_type": "error",
     "traceback": [
      "\u001b[1;31m---------------------------------------------------------------------------\u001b[0m",
      "\u001b[1;31mAttributeError\u001b[0m                            Traceback (most recent call last)",
      "\u001b[1;32m~\\AppData\\Local\\Temp\\ipykernel_128088\\2555120813.py\u001b[0m in \u001b[0;36m<module>\u001b[1;34m\u001b[0m\n\u001b[0;32m      2\u001b[0m \u001b[1;31m# _,input_ids = encode_resume(text)\u001b[0m\u001b[1;33m\u001b[0m\u001b[1;33m\u001b[0m\u001b[0m\n\u001b[0;32m      3\u001b[0m \u001b[1;33m\u001b[0m\u001b[0m\n\u001b[1;32m----> 4\u001b[1;33m \u001b[0minput_ids\u001b[0m \u001b[1;33m=\u001b[0m \u001b[0mtorch\u001b[0m\u001b[1;33m.\u001b[0m\u001b[0mresize\u001b[0m\u001b[1;33m(\u001b[0m\u001b[0minput_ids\u001b[0m\u001b[1;33m,\u001b[0m \u001b[1;33m(\u001b[0m\u001b[1;36m1\u001b[0m\u001b[1;33m,\u001b[0m \u001b[1;36m936\u001b[0m\u001b[1;33m)\u001b[0m\u001b[1;33m)\u001b[0m\u001b[1;33m\u001b[0m\u001b[1;33m\u001b[0m\u001b[0m\n\u001b[0m\u001b[0;32m      5\u001b[0m \u001b[1;33m\u001b[0m\u001b[0m\n\u001b[0;32m      6\u001b[0m \u001b[0mpredicted_label\u001b[0m \u001b[1;33m=\u001b[0m \u001b[0mclassify_resume\u001b[0m\u001b[1;33m(\u001b[0m\u001b[0mtext\u001b[0m\u001b[1;33m)\u001b[0m\u001b[1;33m\u001b[0m\u001b[1;33m\u001b[0m\u001b[0m\n",
      "\u001b[1;32mc:\\Users\\salvin\\anaconda3\\lib\\site-packages\\torch\\__init__.py\u001b[0m in \u001b[0;36m__getattr__\u001b[1;34m(name)\u001b[0m\n\u001b[0;32m   1831\u001b[0m         \u001b[1;32mreturn\u001b[0m \u001b[0mimportlib\u001b[0m\u001b[1;33m.\u001b[0m\u001b[0mimport_module\u001b[0m\u001b[1;33m(\u001b[0m\u001b[1;34mf\".{name}\"\u001b[0m\u001b[1;33m,\u001b[0m \u001b[0m__name__\u001b[0m\u001b[1;33m)\u001b[0m\u001b[1;33m\u001b[0m\u001b[1;33m\u001b[0m\u001b[0m\n\u001b[0;32m   1832\u001b[0m \u001b[1;33m\u001b[0m\u001b[0m\n\u001b[1;32m-> 1833\u001b[1;33m     \u001b[1;32mraise\u001b[0m \u001b[0mAttributeError\u001b[0m\u001b[1;33m(\u001b[0m\u001b[1;34mf\"module '{__name__}' has no attribute '{name}'\"\u001b[0m\u001b[1;33m)\u001b[0m\u001b[1;33m\u001b[0m\u001b[1;33m\u001b[0m\u001b[0m\n\u001b[0m\u001b[0;32m   1834\u001b[0m \u001b[1;33m\u001b[0m\u001b[0m\n\u001b[0;32m   1835\u001b[0m \u001b[1;32mfrom\u001b[0m \u001b[1;33m.\u001b[0m \u001b[1;32mimport\u001b[0m \u001b[0m_logging\u001b[0m\u001b[1;33m\u001b[0m\u001b[1;33m\u001b[0m\u001b[0m\n",
      "\u001b[1;31mAttributeError\u001b[0m: module 'torch' has no attribute 'resize'"
     ]
    }
   ],
   "source": [
    "# Example usage\n",
    "# _,input_ids = encode_resume(text)\n",
    "\n",
    "input_ids = torch.resize(input_ids, (1, 936))\n",
    "\n",
    "predicted_label = classify_resume(text)"
   ]
  },
  {
   "cell_type": "markdown",
   "metadata": {},
   "source": []
  },
  {
   "cell_type": "code",
   "execution_count": null,
   "metadata": {},
   "outputs": [],
   "source": [
    "print(\"Predicted job title:\", predicted_label)  # Output"
   ]
  }
 ],
 "metadata": {
  "kernelspec": {
   "display_name": "base",
   "language": "python",
   "name": "python3"
  },
  "language_info": {
   "codemirror_mode": {
    "name": "ipython",
    "version": 3
   },
   "file_extension": ".py",
   "mimetype": "text/x-python",
   "name": "python",
   "nbconvert_exporter": "python",
   "pygments_lexer": "ipython3",
   "version": "3.9.13"
  }
 },
 "nbformat": 4,
 "nbformat_minor": 2
}
